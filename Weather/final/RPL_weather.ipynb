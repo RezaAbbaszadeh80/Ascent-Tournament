{
 "cells": [
  {
   "cell_type": "markdown",
   "metadata": {},
   "source": [
    "# import library and Splitting data for training the model"
   ]
  },
  {
   "cell_type": "code",
   "execution_count": 19,
   "metadata": {},
   "outputs": [
    {
     "name": "stdout",
     "output_type": "stream",
     "text": [
      "           date  precipitation  temp_max  temp_min  wind weather  month\n",
      "305  2012-11-01            9.7      15.0      10.6   3.0    rain     11\n",
      "306  2012-11-02            5.6      15.0      10.6   1.0    rain     11\n",
      "307  2012-11-03            0.5      15.6      11.1   3.6    rain     11\n",
      "308  2012-11-04            8.1      17.8      12.8   3.8    rain     11\n",
      "309  2012-11-05            0.8      15.0       7.8   4.0    rain     11\n",
      "...         ...            ...       ...       ...   ...     ...    ...\n",
      "1091 2014-12-27            3.3       9.4       4.4   4.9    rain     12\n",
      "1092 2014-12-28            4.1       6.7       2.8   1.8    rain     12\n",
      "1093 2014-12-29            0.0       6.1       0.6   4.3     fog     12\n",
      "1094 2014-12-30            0.0       3.3      -2.1   3.6     sun     12\n",
      "1095 2014-12-31            0.0       3.3      -2.7   3.0     sun     12\n",
      "\n",
      "[183 rows x 7 columns]\n"
     ]
    }
   ],
   "source": [
    "# Importing pandas library\n",
    "import pandas as pd\n",
    "\n",
    "# Reading weather forecast data from csv file\n",
    "weather_data = pd.read_csv('train.csv')\n",
    "# weather_data\n",
    "\n",
    "# Converting date column to the appropriate format\n",
    "weather_data['date'] = pd.to_datetime(weather_data['date'])\n",
    "\n",
    "# Extracting month from the date\n",
    "weather_data['month'] = weather_data['date'].dt.month\n",
    "\n",
    "# Separating rows related to months from November to December\n",
    "weather_data_Nov_Dec = weather_data.loc[(weather_data['month'] >= 11) & (weather_data['month'] <= 12)]\n",
    "\n",
    "# Displaying the separated data\n",
    "print(weather_data_Nov_Dec)\n"
   ]
  },
  {
   "cell_type": "markdown",
   "metadata": {},
   "source": [
    "# Check have null data\n",
    "\"Cleaning the data is the first step. Since the number of null values for any column is 0, we do not have any null values and therefore do not need to clean the data.\""
   ]
  },
  {
   "cell_type": "code",
   "execution_count": 20,
   "metadata": {},
   "outputs": [
    {
     "data": {
      "text/plain": [
       "date             0\n",
       "precipitation    0\n",
       "temp_max         0\n",
       "temp_min         0\n",
       "wind             0\n",
       "weather          0\n",
       "month            0\n",
       "dtype: int64"
      ]
     },
     "execution_count": 20,
     "metadata": {},
     "output_type": "execute_result"
    }
   ],
   "source": [
    "weather_data_Nov_Dec.isnull().sum()"
   ]
  },
  {
   "cell_type": "markdown",
   "metadata": {},
   "source": [
    "# Upload the final_test.csv to add weather column"
   ]
  },
  {
   "cell_type": "code",
   "execution_count": 21,
   "metadata": {},
   "outputs": [
    {
     "data": {
      "text/html": [
       "<div>\n",
       "<style scoped>\n",
       "    .dataframe tbody tr th:only-of-type {\n",
       "        vertical-align: middle;\n",
       "    }\n",
       "\n",
       "    .dataframe tbody tr th {\n",
       "        vertical-align: top;\n",
       "    }\n",
       "\n",
       "    .dataframe thead th {\n",
       "        text-align: right;\n",
       "    }\n",
       "</style>\n",
       "<table border=\"1\" class=\"dataframe\">\n",
       "  <thead>\n",
       "    <tr style=\"text-align: right;\">\n",
       "      <th></th>\n",
       "      <th>date</th>\n",
       "      <th>precipitation</th>\n",
       "      <th>temp_max</th>\n",
       "      <th>temp_min</th>\n",
       "      <th>wind</th>\n",
       "      <th>weather</th>\n",
       "    </tr>\n",
       "  </thead>\n",
       "  <tbody>\n",
       "    <tr>\n",
       "      <th>0</th>\n",
       "      <td>12/11/2015</td>\n",
       "      <td>0.3</td>\n",
       "      <td>9.4</td>\n",
       "      <td>4.4</td>\n",
       "      <td>2.8</td>\n",
       "      <td></td>\n",
       "    </tr>\n",
       "    <tr>\n",
       "      <th>1</th>\n",
       "      <td>12/9/2015</td>\n",
       "      <td>13.5</td>\n",
       "      <td>12.2</td>\n",
       "      <td>7.8</td>\n",
       "      <td>6.3</td>\n",
       "      <td></td>\n",
       "    </tr>\n",
       "    <tr>\n",
       "      <th>2</th>\n",
       "      <td>11/26/2015</td>\n",
       "      <td>0.0</td>\n",
       "      <td>9.4</td>\n",
       "      <td>-1.0</td>\n",
       "      <td>4.3</td>\n",
       "      <td></td>\n",
       "    </tr>\n",
       "    <tr>\n",
       "      <th>3</th>\n",
       "      <td>12/31/2015</td>\n",
       "      <td>0.0</td>\n",
       "      <td>5.6</td>\n",
       "      <td>-2.1</td>\n",
       "      <td>3.5</td>\n",
       "      <td></td>\n",
       "    </tr>\n",
       "    <tr>\n",
       "      <th>4</th>\n",
       "      <td>12/1/2015</td>\n",
       "      <td>12.2</td>\n",
       "      <td>10.0</td>\n",
       "      <td>3.9</td>\n",
       "      <td>3.5</td>\n",
       "      <td></td>\n",
       "    </tr>\n",
       "  </tbody>\n",
       "</table>\n",
       "</div>"
      ],
      "text/plain": [
       "         date  precipitation  temp_max  temp_min  wind weather\n",
       "0  12/11/2015            0.3       9.4       4.4   2.8        \n",
       "1   12/9/2015           13.5      12.2       7.8   6.3        \n",
       "2  11/26/2015            0.0       9.4      -1.0   4.3        \n",
       "3  12/31/2015            0.0       5.6      -2.1   3.5        \n",
       "4   12/1/2015           12.2      10.0       3.9   3.5        "
      ]
     },
     "execution_count": 21,
     "metadata": {},
     "output_type": "execute_result"
    }
   ],
   "source": [
    "df_final = pd.read_csv('final_test.csv')\n",
    "df_final.isnull().sum()\n",
    "df_final['weather'] = '' # create the weather column of final_test.csv     \n",
    "df_final.head()"
   ]
  },
  {
   "cell_type": "markdown",
   "metadata": {
    "id": "7MbD9C49wA8o"
   },
   "source": [
    "# Preprocessing data (encoding data)\n",
    "\n",
    "We cannot use string values for training, so we need to preprocess and convert them to numerical values (encode the data), which involves converting the categorical variables to numerical values."
   ]
  },
  {
   "cell_type": "code",
   "execution_count": 22,
   "metadata": {
    "colab": {
     "base_uri": "https://localhost:8080/",
     "height": 206
    },
    "id": "pLJOPFzWvB4O",
    "outputId": "371268d3-94e1-4969-c8b2-d5574161afd3"
   },
   "outputs": [
    {
     "name": "stderr",
     "output_type": "stream",
     "text": [
      "C:\\Users\\abasi\\AppData\\Local\\Temp\\ipykernel_11588\\3828091490.py:3: SettingWithCopyWarning: \n",
      "A value is trying to be set on a copy of a slice from a DataFrame.\n",
      "Try using .loc[row_indexer,col_indexer] = value instead\n",
      "\n",
      "See the caveats in the documentation: https://pandas.pydata.org/pandas-docs/stable/user_guide/indexing.html#returning-a-view-versus-a-copy\n",
      "  weather_data_Nov_Dec['date'] = le.fit_transform(weather_data_Nov_Dec['date'])\n",
      "C:\\Users\\abasi\\AppData\\Local\\Temp\\ipykernel_11588\\3828091490.py:4: SettingWithCopyWarning: \n",
      "A value is trying to be set on a copy of a slice from a DataFrame.\n",
      "Try using .loc[row_indexer,col_indexer] = value instead\n",
      "\n",
      "See the caveats in the documentation: https://pandas.pydata.org/pandas-docs/stable/user_guide/indexing.html#returning-a-view-versus-a-copy\n",
      "  weather_data_Nov_Dec['precipitation'] = le.fit_transform(weather_data_Nov_Dec['precipitation'])\n",
      "C:\\Users\\abasi\\AppData\\Local\\Temp\\ipykernel_11588\\3828091490.py:5: SettingWithCopyWarning: \n",
      "A value is trying to be set on a copy of a slice from a DataFrame.\n",
      "Try using .loc[row_indexer,col_indexer] = value instead\n",
      "\n",
      "See the caveats in the documentation: https://pandas.pydata.org/pandas-docs/stable/user_guide/indexing.html#returning-a-view-versus-a-copy\n",
      "  weather_data_Nov_Dec['temp_max'] = le.fit_transform(weather_data_Nov_Dec['temp_max'])\n",
      "C:\\Users\\abasi\\AppData\\Local\\Temp\\ipykernel_11588\\3828091490.py:6: SettingWithCopyWarning: \n",
      "A value is trying to be set on a copy of a slice from a DataFrame.\n",
      "Try using .loc[row_indexer,col_indexer] = value instead\n",
      "\n",
      "See the caveats in the documentation: https://pandas.pydata.org/pandas-docs/stable/user_guide/indexing.html#returning-a-view-versus-a-copy\n",
      "  weather_data_Nov_Dec['temp_min'] = le.fit_transform(weather_data_Nov_Dec['temp_min'])\n",
      "C:\\Users\\abasi\\AppData\\Local\\Temp\\ipykernel_11588\\3828091490.py:7: SettingWithCopyWarning: \n",
      "A value is trying to be set on a copy of a slice from a DataFrame.\n",
      "Try using .loc[row_indexer,col_indexer] = value instead\n",
      "\n",
      "See the caveats in the documentation: https://pandas.pydata.org/pandas-docs/stable/user_guide/indexing.html#returning-a-view-versus-a-copy\n",
      "  weather_data_Nov_Dec['wind'] = le.fit_transform(weather_data_Nov_Dec['wind'])\n",
      "C:\\Users\\abasi\\AppData\\Local\\Temp\\ipykernel_11588\\3828091490.py:8: SettingWithCopyWarning: \n",
      "A value is trying to be set on a copy of a slice from a DataFrame.\n",
      "Try using .loc[row_indexer,col_indexer] = value instead\n",
      "\n",
      "See the caveats in the documentation: https://pandas.pydata.org/pandas-docs/stable/user_guide/indexing.html#returning-a-view-versus-a-copy\n",
      "  weather_data_Nov_Dec['weather'] = le.fit_transform(weather_data_Nov_Dec['weather'])\n"
     ]
    }
   ],
   "source": [
    "from sklearn import preprocessing\n",
    "le = preprocessing.LabelEncoder()\n",
    "weather_data_Nov_Dec['date'] = le.fit_transform(weather_data_Nov_Dec['date'])\n",
    "weather_data_Nov_Dec['precipitation'] = le.fit_transform(weather_data_Nov_Dec['precipitation'])\n",
    "weather_data_Nov_Dec['temp_max'] = le.fit_transform(weather_data_Nov_Dec['temp_max'])\n",
    "weather_data_Nov_Dec['temp_min'] = le.fit_transform(weather_data_Nov_Dec['temp_min'])\n",
    "weather_data_Nov_Dec['wind'] = le.fit_transform(weather_data_Nov_Dec['wind'])\n",
    "weather_data_Nov_Dec['weather'] = le.fit_transform(weather_data_Nov_Dec['weather'])"
   ]
  },
  {
   "cell_type": "markdown",
   "metadata": {},
   "source": [
    "# which number belongs to which weather\n",
    "changing the data type for better performance and memory usage optimization.\n"
   ]
  },
  {
   "cell_type": "code",
   "execution_count": 23,
   "metadata": {},
   "outputs": [
    {
     "data": {
      "text/plain": [
       "array([2, 4, 0, 1, 3], dtype=int16)"
      ]
     },
     "execution_count": 23,
     "metadata": {},
     "output_type": "execute_result"
    }
   ],
   "source": [
    "# 'drizzle' = 0 , 'rain' = 2 , 'sun' = 4 , 'snow' = 3 , 'fog' = 1\n",
    "unique_weather = weather_data_Nov_Dec['weather'].unique().astype('int16')\n",
    "unique_weather"
   ]
  },
  {
   "cell_type": "markdown",
   "metadata": {
    "id": "9wENlxKaRdO2"
   },
   "source": [
    "# We should define the label and remove 'date' from the features.\n",
    "Here weather is our label and we want predict that with classification\n"
   ]
  },
  {
   "cell_type": "code",
   "execution_count": 24,
   "metadata": {
    "colab": {
     "base_uri": "https://localhost:8080/",
     "height": 206
    },
    "id": "SL0HVtZKwMJu",
    "outputId": "92de9fef-cb4b-4866-c4c8-29cf7e4d1186"
   },
   "outputs": [],
   "source": [
    "cols = [col for col in df_final.columns if col not in ['weather','date']]  \n",
    "\n",
    "data = weather_data_Nov_Dec[cols]      \n",
    "target = weather_data_Nov_Dec['weather']"
   ]
  },
  {
   "cell_type": "markdown",
   "metadata": {
    "id": "wwOIXCsYyiV_"
   },
   "source": [
    "# Training"
   ]
  },
  {
   "cell_type": "code",
   "execution_count": 25,
   "metadata": {
    "id": "lXef_qbRykJl"
   },
   "outputs": [],
   "source": [
    "from sklearn.model_selection import train_test_split\n",
    "data_train, data_test, target_train, target_test = train_test_split(data, target, train_size=0.999, test_size=0.001) "
   ]
  },
  {
   "cell_type": "markdown",
   "metadata": {},
   "source": [
    "# Dictionary values\n",
    "This dictionary is used to set the values of the encoding to strings."
   ]
  },
  {
   "cell_type": "code",
   "execution_count": 26,
   "metadata": {},
   "outputs": [
    {
     "data": {
      "text/html": [
       "<div>\n",
       "<style scoped>\n",
       "    .dataframe tbody tr th:only-of-type {\n",
       "        vertical-align: middle;\n",
       "    }\n",
       "\n",
       "    .dataframe tbody tr th {\n",
       "        vertical-align: top;\n",
       "    }\n",
       "\n",
       "    .dataframe thead th {\n",
       "        text-align: right;\n",
       "    }\n",
       "</style>\n",
       "<table border=\"1\" class=\"dataframe\">\n",
       "  <thead>\n",
       "    <tr style=\"text-align: right;\">\n",
       "      <th></th>\n",
       "      <th>date</th>\n",
       "      <th>precipitation</th>\n",
       "      <th>temp_max</th>\n",
       "      <th>temp_min</th>\n",
       "      <th>wind</th>\n",
       "      <th>weather</th>\n",
       "    </tr>\n",
       "  </thead>\n",
       "  <tbody>\n",
       "    <tr>\n",
       "      <th>0</th>\n",
       "      <td>12/11/2015</td>\n",
       "      <td>0.3</td>\n",
       "      <td>9.4</td>\n",
       "      <td>4.4</td>\n",
       "      <td>2.8</td>\n",
       "      <td></td>\n",
       "    </tr>\n",
       "    <tr>\n",
       "      <th>1</th>\n",
       "      <td>12/9/2015</td>\n",
       "      <td>13.5</td>\n",
       "      <td>12.2</td>\n",
       "      <td>7.8</td>\n",
       "      <td>6.3</td>\n",
       "      <td></td>\n",
       "    </tr>\n",
       "    <tr>\n",
       "      <th>2</th>\n",
       "      <td>11/26/2015</td>\n",
       "      <td>0.0</td>\n",
       "      <td>9.4</td>\n",
       "      <td>-1.0</td>\n",
       "      <td>4.3</td>\n",
       "      <td></td>\n",
       "    </tr>\n",
       "    <tr>\n",
       "      <th>3</th>\n",
       "      <td>12/31/2015</td>\n",
       "      <td>0.0</td>\n",
       "      <td>5.6</td>\n",
       "      <td>-2.1</td>\n",
       "      <td>3.5</td>\n",
       "      <td></td>\n",
       "    </tr>\n",
       "    <tr>\n",
       "      <th>4</th>\n",
       "      <td>12/1/2015</td>\n",
       "      <td>12.2</td>\n",
       "      <td>10.0</td>\n",
       "      <td>3.9</td>\n",
       "      <td>3.5</td>\n",
       "      <td></td>\n",
       "    </tr>\n",
       "    <tr>\n",
       "      <th>...</th>\n",
       "      <td>...</td>\n",
       "      <td>...</td>\n",
       "      <td>...</td>\n",
       "      <td>...</td>\n",
       "      <td>...</td>\n",
       "      <td>...</td>\n",
       "    </tr>\n",
       "    <tr>\n",
       "      <th>57</th>\n",
       "      <td>11/16/2015</td>\n",
       "      <td>2.0</td>\n",
       "      <td>8.9</td>\n",
       "      <td>1.7</td>\n",
       "      <td>4.0</td>\n",
       "      <td></td>\n",
       "    </tr>\n",
       "    <tr>\n",
       "      <th>58</th>\n",
       "      <td>12/22/2015</td>\n",
       "      <td>4.6</td>\n",
       "      <td>7.8</td>\n",
       "      <td>2.8</td>\n",
       "      <td>5.0</td>\n",
       "      <td></td>\n",
       "    </tr>\n",
       "    <tr>\n",
       "      <th>59</th>\n",
       "      <td>12/21/2015</td>\n",
       "      <td>27.4</td>\n",
       "      <td>5.6</td>\n",
       "      <td>2.8</td>\n",
       "      <td>4.3</td>\n",
       "      <td></td>\n",
       "    </tr>\n",
       "    <tr>\n",
       "      <th>60</th>\n",
       "      <td>11/22/2015</td>\n",
       "      <td>0.0</td>\n",
       "      <td>10.0</td>\n",
       "      <td>1.7</td>\n",
       "      <td>3.1</td>\n",
       "      <td></td>\n",
       "    </tr>\n",
       "    <tr>\n",
       "      <th>61</th>\n",
       "      <td>12/27/2015</td>\n",
       "      <td>8.6</td>\n",
       "      <td>4.4</td>\n",
       "      <td>1.7</td>\n",
       "      <td>2.9</td>\n",
       "      <td></td>\n",
       "    </tr>\n",
       "  </tbody>\n",
       "</table>\n",
       "<p>62 rows × 6 columns</p>\n",
       "</div>"
      ],
      "text/plain": [
       "          date  precipitation  temp_max  temp_min  wind weather\n",
       "0   12/11/2015            0.3       9.4       4.4   2.8        \n",
       "1    12/9/2015           13.5      12.2       7.8   6.3        \n",
       "2   11/26/2015            0.0       9.4      -1.0   4.3        \n",
       "3   12/31/2015            0.0       5.6      -2.1   3.5        \n",
       "4    12/1/2015           12.2      10.0       3.9   3.5        \n",
       "..         ...            ...       ...       ...   ...     ...\n",
       "57  11/16/2015            2.0       8.9       1.7   4.0        \n",
       "58  12/22/2015            4.6       7.8       2.8   5.0        \n",
       "59  12/21/2015           27.4       5.6       2.8   4.3        \n",
       "60  11/22/2015            0.0      10.0       1.7   3.1        \n",
       "61  12/27/2015            8.6       4.4       1.7   2.9        \n",
       "\n",
       "[62 rows x 6 columns]"
      ]
     },
     "execution_count": 26,
     "metadata": {},
     "output_type": "execute_result"
    }
   ],
   "source": [
    "values = {\n",
    "     0 :'drizzle',\n",
    "     2 :'rain' ,\n",
    "     4 :'sun'  , \n",
    "     3 :'snow'  ,\n",
    "     1 :'fog' \n",
    "}\n",
    "\n",
    "df_final"
   ]
  },
  {
   "cell_type": "markdown",
   "metadata": {
    "id": "uUOD6cxfzkNE"
   },
   "source": [
    "# Naive Bayes Model"
   ]
  },
  {
   "cell_type": "code",
   "execution_count": 27,
   "metadata": {
    "colab": {
     "base_uri": "https://localhost:8080/"
    },
    "id": "fIJhmw_9znKG",
    "outputId": "1b002be6-ec42-47ff-c298-36dd197bf6e7"
   },
   "outputs": [
    {
     "name": "stdout",
     "output_type": "stream",
     "text": [
      "Navy bayes accurency:  1.0\n"
     ]
    },
    {
     "data": {
      "text/plain": [
       "0     rain\n",
       "1     rain\n",
       "2      sun\n",
       "3      sun\n",
       "4     rain\n",
       "      ... \n",
       "57    rain\n",
       "58    rain\n",
       "59    rain\n",
       "60     sun\n",
       "61    rain\n",
       "Name: weather, Length: 62, dtype: object"
      ]
     },
     "execution_count": 27,
     "metadata": {},
     "output_type": "execute_result"
    }
   ],
   "source": [
    "from sklearn.naive_bayes import GaussianNB\n",
    "from sklearn.metrics import accuracy_score\n",
    "ghb_model = GaussianNB()\n",
    "ghb_model.fit(data_train, target_train)\n",
    "pred = ghb_model.predict(data_test)\n",
    "print('Navy bayes accurency: ', accuracy_score(target_test, pred, normalize=True)) # evaluation of the model of train\n",
    "\n",
    "# for predict the weather of finaal file & save RPL_weather.csv\n",
    "\n",
    "predicted_weather = ghb_model.predict(df_final[cols]) # for fill the weather column in final_test.csv \n",
    "df_final['weather'] = predicted_weather\n",
    "\n",
    "df_final['weather'] = df_final['weather'].map(values) # Set the values of weather based on the above dictionary.\n",
    "\n",
    "df_final.to_csv(\"RPL_weather.csv\", index=False) # for create and save file \n",
    "df_final\n",
    "\n",
    "# save the weather column \n",
    "df_weather = df_final['weather']\n",
    "df_weather.to_csv(\"RPL_weather_column.csv\", index=False)\n",
    "df_weather\n",
    "\n"
   ]
  }
 ],
 "metadata": {
  "colab": {
   "provenance": []
  },
  "kernelspec": {
   "display_name": "Python 3 (ipykernel)",
   "language": "python",
   "name": "python3"
  },
  "language_info": {
   "codemirror_mode": {
    "name": "ipython",
    "version": 3
   },
   "file_extension": ".py",
   "mimetype": "text/x-python",
   "name": "python",
   "nbconvert_exporter": "python",
   "pygments_lexer": "ipython3",
   "version": "3.9.13"
  }
 },
 "nbformat": 4,
 "nbformat_minor": 1
}
